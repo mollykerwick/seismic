{
 "cells": [
  {
   "cell_type": "markdown",
   "metadata": {},
   "source": [
    "# Accessing data through IRIS\n",
    "\n",
    "Using the IRIS DMC IRISWS timeseries Web Service (https://service.iris.edu/irisws/timeseries/1/), I can query the database through constructing a url and access that data using the Python Requests library. Each request accesses data from a specific station and channel returned as a **miniseed** file. The database can also return saca, sacbb, sacbl, plot, ascii, ascii1, ascii2 (1 and 2 column text files), geocsv, geocsv.tspair, geocsv.slist, and audio files. Downside is you have to individually access each channel (deal breaker?)\n",
    "\n",
    "\n",
    "#### Constructing the url\n",
    "\n",
    "Querying the database requires the user to specify a network (`net`), station (`sta`), location (`loc`), channel (`cha`), start time (`starttime`, `start`), end time (`endtime`, `end`), and output (`output`) type. The basic format of the url is http://service.iris.edu/irisws/timeseries/1/query?net=[network]&sta=[station]&... Instead of editing a long string every time you want to access a dataset, Requests allows keyword arguments to be passed in as a dictionary of `params`. Filters can be applied to the data by specifying keyword arguments, like the decimation rate of the signal `deci`, which removes every `deci`'th data point\n",
    "\n",
    "#### Accessing list of stations and channels from a specific network (AK)\n",
    "\n",
    "Goal: Given a network, access file with all stations, and channels of each station, and all start times and end times of each station\n",
    "\n"
   ]
  },
  {
   "cell_type": "code",
   "execution_count": 48,
   "metadata": {},
   "outputs": [],
   "source": [
    "import numpy as np\n",
    "import requests\n",
    "import datetime"
   ]
  },
  {
   "cell_type": "markdown",
   "metadata": {},
   "source": [
    "### Accessing data from Alaska\n",
    "_____________________\n",
    "\n",
    "| |\n",
    "|----------|\n",
    "|network|AK|\n",
    "|station|KAI|\n",
    "|channel|BHE|\n",
    "|location|--|\n",
    "|start time|2018-09-19T00:00:00|\n",
    "|end time|2018-09-20T00:00:00|\n",
    "|output|ascii1|\n",
    "|decimator|3|"
   ]
  },
  {
   "cell_type": "code",
   "execution_count": 49,
   "metadata": {},
   "outputs": [],
   "source": [
    "payload = {'net': 'AK', 'sta': 'KAI', 'cha': 'BHE', 'loc': '--', 'starttime': '2018-09-19T00:00:00', 'endtime': '2018-09-20T00:00:00', 'output': 'ascii1', 'deci': '3'}\n",
    "akdata = requests.get('http://service.iris.edu/irisws/timeseries/1/query', params=payload)\n",
    "\n",
    "# Same as:\n",
    "# `requests.get('http://service.iris.edu/irisws/timeseries/1/query?\n",
    "# deci=3&output=ascii1&net=AK&sta=KAI&loc=--&starttime=2018-09-19T00:00:00&\n",
    "# end=2018-09-20T00:00:00&cha=BHE')`"
   ]
  },
  {
   "cell_type": "markdown",
   "metadata": {},
   "source": [
    "Can read in as ascii, but goal is to read in as miniseed and then parse data with ObsPy."
   ]
  },
  {
   "cell_type": "code",
   "execution_count": 38,
   "metadata": {
    "scrolled": true
   },
   "outputs": [],
   "source": [
    "# akdata.text"
   ]
  },
  {
   "cell_type": "markdown",
   "metadata": {},
   "source": [
    "DOES NOT WORK: Accessing list of stations and channels on specific date (does not include start time and end time)"
   ]
  },
  {
   "cell_type": "code",
   "execution_count": 42,
   "metadata": {},
   "outputs": [],
   "source": [
    "stalist = requests.get('https://ds.iris.edu/SeismiQuery/bin/caltimeseries2.pl?AK+ALL+2018+001+1')"
   ]
  },
  {
   "cell_type": "code",
   "execution_count": 44,
   "metadata": {},
   "outputs": [],
   "source": [
    "# stalist.text"
   ]
  },
  {
   "cell_type": "markdown",
   "metadata": {},
   "source": [
    "# Accessing data through PASSCAL"
   ]
  },
  {
   "cell_type": "code",
   "execution_count": null,
   "metadata": {},
   "outputs": [],
   "source": []
  },
  {
   "cell_type": "code",
   "execution_count": 46,
   "metadata": {},
   "outputs": [],
   "source": [
    "# ds = xarray.open_dataset('http://service.iris.edu/irisws/timeseries/1/query?output=ascii1&net=AK&sta=KAI&loc=--&starttime=2018-09-19T00:00:00&end=2018-09-20T00:00:00&cha=BHE')\n",
    "# Doesn't work :'("
   ]
  },
  {
   "cell_type": "code",
   "execution_count": 8,
   "metadata": {},
   "outputs": [],
   "source": [
    "# data"
   ]
  },
  {
   "cell_type": "code",
   "execution_count": null,
   "metadata": {},
   "outputs": [],
   "source": []
  },
  {
   "cell_type": "code",
   "execution_count": null,
   "metadata": {},
   "outputs": [],
   "source": []
  }
 ],
 "metadata": {
  "kernelspec": {
   "display_name": "Python 3",
   "language": "python",
   "name": "python3"
  },
  "language_info": {
   "codemirror_mode": {
    "name": "ipython",
    "version": 3
   },
   "file_extension": ".py",
   "mimetype": "text/x-python",
   "name": "python",
   "nbconvert_exporter": "python",
   "pygments_lexer": "ipython3",
   "version": "3.6.5"
  }
 },
 "nbformat": 4,
 "nbformat_minor": 2
}
